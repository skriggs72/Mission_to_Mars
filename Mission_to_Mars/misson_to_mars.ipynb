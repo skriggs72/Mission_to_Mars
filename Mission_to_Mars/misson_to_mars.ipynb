{
 "cells": [
  {
   "cell_type": "code",
   "execution_count": 1,
   "metadata": {},
   "outputs": [],
   "source": [
    "# Dependencies\n",
    "import os\n",
    "from bs4 import BeautifulSoup as bs\n",
    "from webdriver_manager.chrome import ChromeDriverManager\n",
    "from splinter import Browser\n",
    "import requests\n",
    "import pandas as pd\n",
    "import numpy as np\n",
    "import re\n",
    "import json"
   ]
  },
  {
   "cell_type": "code",
   "execution_count": 2,
   "metadata": {},
   "outputs": [
    {
     "name": "stderr",
     "output_type": "stream",
     "text": [
      "[WDM] - Current google-chrome version is 88.0.4324\n",
      "[WDM] - Get LATEST driver version for 88.0.4324\n",
      "[WDM] - Driver [C:\\Users\\Sara\\.wdm\\drivers\\chromedriver\\win32\\88.0.4324.96\\chromedriver.exe] found in cache\n"
     ]
    },
    {
     "name": "stdout",
     "output_type": "stream",
     "text": [
      " \n"
     ]
    }
   ],
   "source": [
    "executable_path = {'executable_path': ChromeDriverManager().install()}\n",
    "browser = Browser('chrome', **executable_path, headless=False)"
   ]
  },
  {
   "cell_type": "markdown",
   "metadata": {},
   "source": [
    "<h2>NASA Mars News Titles</h2>"
   ]
  },
  {
   "cell_type": "code",
   "execution_count": 3,
   "metadata": {},
   "outputs": [],
   "source": [
    "news_title = []\n",
    "article_title = []\n",
    "\n",
    "# URL of page to be scraped\n",
    "url = 'https://mars.nasa.gov/news/'\n",
    "response = browser.visit(url)"
   ]
  },
  {
   "cell_type": "code",
   "execution_count": 4,
   "metadata": {},
   "outputs": [
    {
     "name": "stdout",
     "output_type": "stream",
     "text": [
      "[{'Latest Article': 'Mars Now'}, {'Latest Article': 'Could the Surface of Phobos Reveal Secrets of the Martian Past?'}, {'Latest Article': \"NASA's MAVEN Continues to Advance Mars Science and Telecommunications Relay Efforts\"}, {'Latest Article': \"NASA's Perseverance Rover 22 Days From Mars Landing\"}, {'Latest Article': \"6 Things to Know About NASA's Mars Helicopter on Its Way to Mars\"}, {'Latest Article': 'NASA to Host Virtual Briefing on February Perseverance Mars Rover Landing'}, {'Latest Article': \"NASA InSight's ‘Mole' Ends Its Journey on Mars\"}, {'Latest Article': 'Mars 2020 Perseverance Rover to Capture Sounds From the Red Planet'}, {'Latest Article': \"NASA's Curiosity Rover Reaches Its 3,000th Day on Mars\"}, {'Latest Article': \"Celebrate the Perseverance Rover Landing With NASA's Student Challenge\"}, {'Latest Article': 'NASA Extends Exploration for Two Planetary Science Missions'}, {'Latest Article': '7 Things to Know About the NASA Rover About to Land on Mars'}, {'Latest Article': \"A Martian Roundtrip: NASA's Perseverance Rover Sample Tubes\"}, {'Latest Article': 'NASA Moves Forward With Campaign to Return Mars Samples to Earth'}, {'Latest Article': \"3 Things We've Learned From NASA's Mars InSight\"}, {'Latest Article': \"From JPL's Mailroom to Mars and Beyond\"}, {'Latest Article': \"5 Hidden Gems Are Riding Aboard NASA's Perseverance Rover\"}, {'Latest Article': 'MOXIE Could Help Future Rockets Launch Off Mars'}, {'Latest Article': \"Hear Audio From NASA's Perseverance As It Travels Through Deep Space\"}, {'Latest Article': 'Mars Is Getting a New Robotic Meteorologist'}, {'Latest Article': 'Heat and Dust Help Launch Martian Water Into Space, Scientists Find'}, {'Latest Article': \"NASA's Curiosity Takes Selfie With 'Mary Anning' on the Red Planet\"}, {'Latest Article': 'Independent Review Indicates NASA Prepared for Mars Sample Return Campaign'}, {'Latest Article': \"NASA's Perseverance Rover 100 Days Out\"}, {'Latest Article': \"NASA's Perseverance Rover Is Midway to Mars\"}, {'Latest Article': 'Sensors on Mars 2020 Spacecraft Answer Long-Distance Call From Earth'}, {'Latest Article': \"NASA's Perseverance Rover Bringing 3D-Printed Metal Parts to Mars\"}, {'Latest Article': \"NASA InSight's 'Mole' Is Out of Sight\"}, {'Latest Article': \"NASA's Perseverance Rover Will Peer Beneath Mars' Surface\"}, {'Latest Article': 'AI Is Helping Scientists Discover Fresh Craters on Mars'}, {'Latest Article': \"NASA's New Mars Rover Is Ready for Space Lasers\"}, {'Latest Article': \"NASA's New Mars Rover Will Use X-Rays to Hunt Fossils\"}, {'Latest Article': 'My Culture, My Voice'}, {'Latest Article': \"NASA Readies Perseverance Mars Rover's Earthly Twin\"}, {'Latest Article': \"NASA Engineers Checking InSight's Weather Sensors\"}, {'Latest Article': \"Follow NASA's Perseverance Rover in Real Time on Its Way to Mars\"}, {'Latest Article': 'NASA Establishes Board to Initially Review Mars Sample Return Plans'}, {'Latest Article': \"NASA's Ingenuity Mars Helicopter Recharges Its Batteries in Flight\"}, {'Latest Article': \"Celebrate Mars Reconnaissance Orbiter's Views From Above\"}, {'Latest Article': \"NASA's MAVEN Observes Martian Night Sky Pulsing in Ultraviolet Light\"}, {'Latest Article': \"8 Martian Postcards to Celebrate Curiosity's Landing Anniversary\"}, {'Latest Article': \"The Launch Is Approaching for NASA's Next Mars Rover, Perseverance\"}, {'Latest Article': 'NASA to Hold Mars 2020 Perseverance Rover Launch Briefing'}, {'Latest Article': \"Alabama High School Student Names NASA's Mars Helicopter\"}, {'Latest Article': 'NASA to Host Virtual Briefing on February Perseverance Mars Rover Landing'}, {'Latest Article': \"NASA InSight's ‘Mole' Ends Its Journey on Mars\"}, {'Latest Article': 'NASA to Broadcast Mars 2020 Perseverance Launch, Prelaunch Activities'}, {'Latest Article': \"The Launch Is Approaching for NASA's Next Mars Rover, Perseverance\"}, {'Latest Article': 'NASA to Hold Mars 2020 Perseverance Rover Launch Briefing'}, {'Latest Article': \"Alabama High School Student Names NASA's Mars Helicopter\"}, {'Latest Article': 'NASA to Host Virtual Briefing on February Perseverance Mars Rover Landing'}, {'Latest Article': \"NASA InSight's ‘Mole' Ends Its Journey on Mars\"}, {'Latest Article': 'NASA to Broadcast Mars 2020 Perseverance Launch, Prelaunch Activities'}]\n"
     ]
    }
   ],
   "source": [
    "# Create BeautifulSoup object; parse with 'html.parser'\n",
    "soup = bs(browser.html, 'html.parser')\n",
    "news_list = soup.find_all(\"div\", class_='content_title')\n",
    "for news in news_list:\n",
    "    news_t = news.text.strip()\n",
    "    news_title.append(news_t)\n",
    "for i in range(len(news_title)):\n",
    "        article = dict([('Latest Article', news_title[i])])\n",
    "        article_title.append(article)\n",
    "print(article_title)"
   ]
  },
  {
   "cell_type": "markdown",
   "metadata": {},
   "source": [
    "<h2>NASA Mars News Text</h2>"
   ]
  },
  {
   "cell_type": "code",
   "execution_count": 5,
   "metadata": {},
   "outputs": [
    {
     "name": "stdout",
     "output_type": "stream",
     "text": [
      "[{'Overview': 'A mission to investigate key questions about potential life on Mars.'}, {'Overview': 'The largest and most capable rover ever sent to Mars.'}, {'Overview': 'A mission to study the deep interior of Mars.'}, {'Overview': \"Measures Mars' atmosphere to understand its climate change.\"}, {'Overview': 'Takes high-resolution imagery of Martian terrain with extraordinary clarity.'}, {'Overview': \"NASA's longest-lasting spacecraft at Mars.\"}, {'Overview': 'The Martian moon Phobos orbits through a stream of charged atoms and molecules that flow off the Red Planet’s atmosphere, new research shows.'}, {'Overview': 'With a suite of new national and international spacecraft primed to explore the Red Planet after their arrival next month, NASA’s MAVEN mission is ready to provide support and continue its study of the Martian atmosphere.'}, {'Overview': 'Seven minutes of harrowing descent to the Red Planet is in the not-so-distant future for the agency’s Mars 2020 mission.'}, {'Overview': 'Ingenuity, a technology experiment, is preparing to attempt the first powered, controlled flight on the Red Planet.'}, {'Overview': 'NASA leadership and members of the mission will discuss the agency’s latest rover, which touches down on the Red Planet on Feb. 18.'}, {'Overview': 'The heat probe hasn’t been able to gain the friction it needs to dig, but the mission has been granted an extension to carry on with its other science.'}, {'Overview': 'Audio gathered by the mission may not sound quite the same on Mars as it would to our ears on Earth. A new interactive online experience lets you sample the difference.'}, {'Overview': 'As the rover has continued to ascend Mount Sharp, it’s found distinctive benchlike rock formations.'}, {'Overview': 'The rover touches down on the Red Planet next month, and students are invited to join the excitement by designing, building, and landing their own Mars mission. NASA can help.'}, {'Overview': 'The missions – Juno and InSight – have each increased our understanding of our solar system, as well as spurred new sets of diverse questions.'}, {'Overview': 'The Mars 2020 Perseverance rover, which has started its approach to the Red Planet, will help answer the next logical question in Mars exploration.'}, {'Overview': \"Marvels of engineering, the rover's sample tubes must be tough enough to safely bring Red Planet samples on the long journey back to Earth in immaculate condition.\"}, {'Overview': 'During this next phase, the program will mature critical technologies and make critical design decisions as well as assess industry partnerships.'}, {'Overview': 'Scientists are finding new mysteries since the geophysics mission landed two years ago.'}, {'Overview': 'Bill Allen has thrived as the mechanical systems design lead for three Mars rover missions, but he got his start as a teenager sorting letters for the NASA center.'}, {'Overview': \"The symbols, mottos, and small objects added to the agency's newest Mars rover serve a variety of purposes, from functional to decorative.\"}, {'Overview': \"NASA's Perseverance rover carries a device to convert Martian air into oxygen that, if produced on a larger scale, could be used not just for breathing, but also for fuel.\"}, {'Overview': \"The first to be rigged with microphones, the agency's latest Mars rover picked up the subtle sounds of its own inner workings during interplanetary flight.\"}, {'Overview': \"Sensors on NASA's Perseverance will help prepare for future human exploration by taking weather measurements and studying dust particles.\"}, {'Overview': 'Scientists using an instrument aboard NASA’s Mars Atmosphere and Volatile EvolutioN, or MAVEN, spacecraft have discovered that water vapor near the surface of the Red Planet is lofted higher into the atmosphere than anyone expected was possible.'}, {'Overview': 'The Mars rover has drilled three samples of rock in this clay-enriched region since arriving in July.'}, {'Overview': 'NASA released an independent review report Tuesday indicating the agency is well positioned for its Mars Sample Return campaign to bring pristine samples from Mars to Earth for scientific study.'}, {'Overview': \"Mark your calendars: The agency's latest rover has only about 8,640,000 seconds to go before it touches down on the Red Planet, becoming history's next Mars car.\"}, {'Overview': \"Sometimes half measures can be a good thing – especially on a journey this long. The agency's latest rover only has about 146 million miles left to reach its destination.\"}, {'Overview': \"Instruments tailored to collect data during the descent of NASA's next rover through the Red Planet's atmosphere have been checked in flight.\"}, {'Overview': \"For hobbyists and makers, 3D printing expands creative possibilities; for specialized engineers, it's also key to next-generation spacecraft design.\"}, {'Overview': \"Now that the heat probe is just below the Martian surface, InSight's arm will scoop some additional soil on top to help it keep digging so it can take Mars' temperature.\"}, {'Overview': \"The agency's newest rover will use the first ground-penetrating radar instrument on the Martian surface to help search for signs of past microbial life.\"}, {'Overview': \"It's the first time machine learning has been used to find previously unknown craters on the Red Planet.\"}, {'Overview': 'Perseverance is one of a few Mars spacecraft carrying laser retroreflectors. The devices could provide new science and safer Mars landings in the future.'}, {'Overview': \"PIXL, an instrument on the end of the Perseverance rover's arm, will search for chemical fingerprints left by ancient microbes.\"}, {'Overview': 'In honor of Hispanic Heritage Month, Christina Hernandez, an instrument engineer on the Mars 2020 mission, talks about her childhood and journey to NASA.'}, {'Overview': \"Did you know NASA's next Mars rover has a nearly identical sibling on Earth for testing? Even better, it's about to roll for the first time through a replica Martian landscape.\"}, {'Overview': 'An electronics issue is suspected to be preventing the sensors from sharing their data about Mars weather with the spacecraft.'}, {'Overview': \"A crisply rendered web application can show you where the agency's Mars 2020 mission is right now as it makes its way to the Red Planet for a Feb. 18, 2021, landing.\"}, {'Overview': 'The board will assist with analysis of current plans and goals for one of the most difficult missions humanity has ever undertaken.'}, {'Overview': 'Headed to the Red Planet with the Perseverance rover, the pioneering helicopter is powered up for the first time in interplanetary space as part of a systems check.'}, {'Overview': 'Marking its 15th anniversary since launch, one of the oldest spacecraft at the Red Planet has provided glimpses of dust devils, avalanches, and more.'}, {'Overview': 'Vast areas of the Martian night sky pulse in ultraviolet light, according to images from NASA’s MAVEN spacecraft. The results are being used to illuminate complex circulation patterns in the Martian atmosphere.'}, {'Overview': 'The NASA rover touched down eight years ago, on Aug. 5, 2012, and will soon be joined by a second rover, Perseverance.'}, {'Overview': \"The Red Planet's surface has been visited by eight NASA spacecraft. The ninth will be the first that includes a roundtrip ticket in its flight plan.\"}, {'Overview': \"Learn more about the agency's next Red Planet mission during a live event on June 17.\"}, {'Overview': \"Vaneeza Rupani's essay was chosen as the name for the small spacecraft, which will mark NASA's first attempt at powered flight on another planet.\"}, {'Overview': 'NASA leadership and members of the mission will discuss the agency’s latest rover, which touches down on the Red Planet on Feb. 18.'}, {'Overview': 'The heat probe hasn’t been able to gain the friction it needs to dig, but the mission has been granted an extension to carry on with its other science.'}, {'Overview': 'Starting July 27, news activities will cover everything from mission engineering and science to returning samples from Mars to, of course, the launch itself.'}, {'Overview': \"The Red Planet's surface has been visited by eight NASA spacecraft. The ninth will be the first that includes a roundtrip ticket in its flight plan.\"}, {'Overview': \"Learn more about the agency's next Red Planet mission during a live event on June 17.\"}, {'Overview': \"Vaneeza Rupani's essay was chosen as the name for the small spacecraft, which will mark NASA's first attempt at powered flight on another planet.\"}, {'Overview': 'NASA leadership and members of the mission will discuss the agency’s latest rover, which touches down on the Red Planet on Feb. 18.'}, {'Overview': 'The heat probe hasn’t been able to gain the friction it needs to dig, but the mission has been granted an extension to carry on with its other science.'}, {'Overview': 'Starting July 27, news activities will cover everything from mission engineering and science to returning samples from Mars to, of course, the launch itself.'}]\n"
     ]
    }
   ],
   "source": [
    "news_p=[]\n",
    "article_p = []\n",
    "url = 'https://mars.nasa.gov/news/'\n",
    "response = browser.visit(url)\n",
    "soup = bs(browser.html, 'html.parser')\n",
    "results_text = soup.find_all(\"div\", class_='rollover_description_inner')\n",
    "for result in results_text:\n",
    "        p = result.text.strip()\n",
    "        news_p.append(p)\n",
    "for i in range(len(news_p)):\n",
    "    article = dict([('Overview', news_p[i])])\n",
    "    article_p.append(article)\n",
    "print(article_p)"
   ]
  },
  {
   "cell_type": "markdown",
   "metadata": {},
   "source": [
    "<h2>Mars Facts</h2>"
   ]
  },
  {
   "cell_type": "code",
   "execution_count": 6,
   "metadata": {
    "scrolled": true
   },
   "outputs": [
    {
     "data": {
      "text/html": [
       "<div>\n",
       "<style scoped>\n",
       "    .dataframe tbody tr th:only-of-type {\n",
       "        vertical-align: middle;\n",
       "    }\n",
       "\n",
       "    .dataframe tbody tr th {\n",
       "        vertical-align: top;\n",
       "    }\n",
       "\n",
       "    .dataframe thead th {\n",
       "        text-align: right;\n",
       "    }\n",
       "</style>\n",
       "<table border=\"1\" class=\"dataframe\">\n",
       "  <thead>\n",
       "    <tr style=\"text-align: right;\">\n",
       "      <th></th>\n",
       "      <th>Category</th>\n",
       "      <th>Data</th>\n",
       "    </tr>\n",
       "  </thead>\n",
       "  <tbody>\n",
       "    <tr>\n",
       "      <th>0</th>\n",
       "      <td>Equatorial Diameter:</td>\n",
       "      <td>6,792 km</td>\n",
       "    </tr>\n",
       "    <tr>\n",
       "      <th>1</th>\n",
       "      <td>Polar Diameter:</td>\n",
       "      <td>6,752 km</td>\n",
       "    </tr>\n",
       "    <tr>\n",
       "      <th>2</th>\n",
       "      <td>Mass:</td>\n",
       "      <td>6.39 × 10^23 kg (0.11 Earths)</td>\n",
       "    </tr>\n",
       "    <tr>\n",
       "      <th>3</th>\n",
       "      <td>Moons:</td>\n",
       "      <td>2 (Phobos &amp; Deimos)</td>\n",
       "    </tr>\n",
       "    <tr>\n",
       "      <th>4</th>\n",
       "      <td>Orbit Distance:</td>\n",
       "      <td>227,943,824 km (1.38 AU)</td>\n",
       "    </tr>\n",
       "    <tr>\n",
       "      <th>5</th>\n",
       "      <td>Orbit Period:</td>\n",
       "      <td>687 days (1.9 years)</td>\n",
       "    </tr>\n",
       "    <tr>\n",
       "      <th>6</th>\n",
       "      <td>Surface Temperature:</td>\n",
       "      <td>-87 to -5 °C</td>\n",
       "    </tr>\n",
       "    <tr>\n",
       "      <th>7</th>\n",
       "      <td>First Record:</td>\n",
       "      <td>2nd millennium BC</td>\n",
       "    </tr>\n",
       "    <tr>\n",
       "      <th>8</th>\n",
       "      <td>Recorded By:</td>\n",
       "      <td>Egyptian astronomers</td>\n",
       "    </tr>\n",
       "  </tbody>\n",
       "</table>\n",
       "</div>"
      ],
      "text/plain": [
       "               Category                           Data\n",
       "0  Equatorial Diameter:                       6,792 km\n",
       "1       Polar Diameter:                       6,752 km\n",
       "2                 Mass:  6.39 × 10^23 kg (0.11 Earths)\n",
       "3                Moons:            2 (Phobos & Deimos)\n",
       "4       Orbit Distance:       227,943,824 km (1.38 AU)\n",
       "5         Orbit Period:           687 days (1.9 years)\n",
       "6  Surface Temperature:                   -87 to -5 °C\n",
       "7         First Record:              2nd millennium BC\n",
       "8          Recorded By:           Egyptian astronomers"
      ]
     },
     "execution_count": 6,
     "metadata": {},
     "output_type": "execute_result"
    }
   ],
   "source": [
    "mars_facts = pd.read_html('http://space-facts.com/mars/')\n",
    "mars_df = mars_facts[0]\n",
    "mars_df.columns = [\"Category\", \"Data\"]\n",
    "mars_df"
   ]
  },
  {
   "cell_type": "code",
   "execution_count": 7,
   "metadata": {
    "scrolled": true
   },
   "outputs": [
    {
     "name": "stdout",
     "output_type": "stream",
     "text": [
      "<table border=\"1\" class=\"dataframe\">\n",
      "  <thead>\n",
      "    <tr style=\"text-align: right;\">\n",
      "      <th>Category</th>\n",
      "      <th>Data</th>\n",
      "    </tr>\n",
      "  </thead>\n",
      "  <tbody>\n",
      "    <tr>\n",
      "      <td>Equatorial Diameter:</td>\n",
      "      <td>6,792 km</td>\n",
      "    </tr>\n",
      "    <tr>\n",
      "      <td>Polar Diameter:</td>\n",
      "      <td>6,752 km</td>\n",
      "    </tr>\n",
      "    <tr>\n",
      "      <td>Mass:</td>\n",
      "      <td>6.39 × 10^23 kg (0.11 Earths)</td>\n",
      "    </tr>\n",
      "    <tr>\n",
      "      <td>Moons:</td>\n",
      "      <td>2 (Phobos &amp; Deimos)</td>\n",
      "    </tr>\n",
      "    <tr>\n",
      "      <td>Orbit Distance:</td>\n",
      "      <td>227,943,824 km (1.38 AU)</td>\n",
      "    </tr>\n",
      "    <tr>\n",
      "      <td>Orbit Period:</td>\n",
      "      <td>687 days (1.9 years)</td>\n",
      "    </tr>\n",
      "    <tr>\n",
      "      <td>Surface Temperature:</td>\n",
      "      <td>-87 to -5 °C</td>\n",
      "    </tr>\n",
      "    <tr>\n",
      "      <td>First Record:</td>\n",
      "      <td>2nd millennium BC</td>\n",
      "    </tr>\n",
      "    <tr>\n",
      "      <td>Recorded By:</td>\n",
      "      <td>Egyptian astronomers</td>\n",
      "    </tr>\n",
      "  </tbody>\n",
      "</table>\n"
     ]
    }
   ],
   "source": [
    "mars_df_html = mars_df.to_html(index = False)\n",
    "print(mars_df_html)"
   ]
  },
  {
   "cell_type": "markdown",
   "metadata": {},
   "source": [
    "<h2>Mars Hemispheres</h2>"
   ]
  },
  {
   "cell_type": "code",
   "execution_count": 8,
   "metadata": {},
   "outputs": [
    {
     "name": "stdout",
     "output_type": "stream",
     "text": [
      " Title: Cerberus Hemisphere Enhanced\n",
      " Title: Schiaparelli Hemisphere Enhanced\n",
      " Title: Syrtis Major Hemisphere Enhanced\n",
      " Title: Valles Marineris Hemisphere Enhanced\n"
     ]
    }
   ],
   "source": [
    "url = 'https://astrogeology.usgs.gov/search/results?q=hemisphere+enhanced&k1=target&v1=Mars'\n",
    "title=[]\n",
    "response = browser.visit(url)\n",
    "soup = bs(browser.html, 'html.parser')\n",
    "titles_list = soup.find_all('div', class_='description')\n",
    "for titles in titles_list:\n",
    "    t = titles.h3.text\n",
    "    title.append(t)\n",
    "for t in title:\n",
    "    print(f' Title: {t}')"
   ]
  },
  {
   "cell_type": "code",
   "execution_count": 9,
   "metadata": {},
   "outputs": [
    {
     "name": "stdout",
     "output_type": "stream",
     "text": [
      " Image url: {'img_url': 'https://astropedia.astrogeology.usgs.gov/download/Mars/Viking/cerberus_enhanced.tif/full.jpg', 'title': 'Cerberus Hemisphere Enhanced'}\n",
      " Image url: {'img_url': 'https://astropedia.astrogeology.usgs.gov/download/Mars/Viking/schiaparelli_enhanced.tif/full.jpg', 'title': 'Schiaparelli Hemisphere Enhanced'}\n",
      " Image url: {'img_url': 'https://astropedia.astrogeology.usgs.gov/download/Mars/Viking/syrtis_major_enhanced.tif/full.jpg', 'title': 'Syrtis Major Hemisphere Enhanced'}\n",
      " Image url: {'img_url': 'https://astropedia.astrogeology.usgs.gov/download/Mars/Viking/valles_marineris_enhanced.tif/full.jpg', 'title': 'Valles Marineris Hemisphere Enhanced'}\n"
     ]
    }
   ],
   "source": [
    "mars_url = 'https://astrogeology.usgs.gov/search/results?q=hemisphere+enhanced&k1=target&v1=Mars'\n",
    "image_url=[]\n",
    "browser.visit(mars_url)\n",
    "mars_links = browser.find_by_css(\"a.product-item h3\")\n",
    "for i in range(len(mars_links)):\n",
    "    mars_hemispheres = {}\n",
    "    browser.find_by_css(\"a.product-item h3\")[i].click()\n",
    "    mars = browser.links.find_by_text(\"Sample\").first\n",
    "    mars_hemispheres['img_url'] = mars['href']\n",
    "    mars_hemispheres['title'] = browser.find_by_css('h2.title').text\n",
    "    image_url.append(mars_hemispheres)\n",
    "    browser.back()\n",
    "for image in image_url:\n",
    "    print(f' Image url: {image}')"
   ]
  },
  {
   "cell_type": "code",
   "execution_count": 10,
   "metadata": {},
   "outputs": [
    {
     "name": "stdout",
     "output_type": "stream",
     "text": [
      "[{'Title': 'Cerberus Hemisphere Enhanced', 'Image_url': {'img_url': 'https://astropedia.astrogeology.usgs.gov/download/Mars/Viking/cerberus_enhanced.tif/full.jpg', 'title': 'Cerberus Hemisphere Enhanced'}}, {'Title': 'Schiaparelli Hemisphere Enhanced', 'Image_url': {'img_url': 'https://astropedia.astrogeology.usgs.gov/download/Mars/Viking/schiaparelli_enhanced.tif/full.jpg', 'title': 'Schiaparelli Hemisphere Enhanced'}}, {'Title': 'Syrtis Major Hemisphere Enhanced', 'Image_url': {'img_url': 'https://astropedia.astrogeology.usgs.gov/download/Mars/Viking/syrtis_major_enhanced.tif/full.jpg', 'title': 'Syrtis Major Hemisphere Enhanced'}}, {'Title': 'Valles Marineris Hemisphere Enhanced', 'Image_url': {'img_url': 'https://astropedia.astrogeology.usgs.gov/download/Mars/Viking/valles_marineris_enhanced.tif/full.jpg', 'title': 'Valles Marineris Hemisphere Enhanced'}}]\n"
     ]
    }
   ],
   "source": [
    "tImage = []\n",
    "\n",
    "for t, Image in zip(title, image_url):\n",
    "    mars_data = {'Title': t,\n",
    "            'Image_url': Image}\n",
    "\n",
    "    tImage.append(mars_data)\n",
    "print (tImage)"
   ]
  },
  {
   "cell_type": "code",
   "execution_count": 11,
   "metadata": {},
   "outputs": [],
   "source": [
    "import pymongo\n",
    "# Initialize PyMongo to work with MongoDBs\n",
    "conn = 'mongodb://localhost:27017'\n",
    "client = pymongo.MongoClient(conn)\n",
    "# Define database and collection\n",
    "db = client.mars_data_db\n",
    "hem_images = db.items"
   ]
  },
  {
   "cell_type": "code",
   "execution_count": 12,
   "metadata": {},
   "outputs": [
    {
     "name": "stdout",
     "output_type": "stream",
     "text": [
      "[{'Title': 'Cerberus Hemisphere Enhanced', 'Image_url': {'img_url': 'https://astropedia.astrogeology.usgs.gov/download/Mars/Viking/cerberus_enhanced.tif/full.jpg', 'title': 'Cerberus Hemisphere Enhanced'}}, {'Title': 'Schiaparelli Hemisphere Enhanced', 'Image_url': {'img_url': 'https://astropedia.astrogeology.usgs.gov/download/Mars/Viking/schiaparelli_enhanced.tif/full.jpg', 'title': 'Schiaparelli Hemisphere Enhanced'}}, {'Title': 'Syrtis Major Hemisphere Enhanced', 'Image_url': {'img_url': 'https://astropedia.astrogeology.usgs.gov/download/Mars/Viking/syrtis_major_enhanced.tif/full.jpg', 'title': 'Syrtis Major Hemisphere Enhanced'}}, {'Title': 'Valles Marineris Hemisphere Enhanced', 'Image_url': {'img_url': 'https://astropedia.astrogeology.usgs.gov/download/Mars/Viking/valles_marineris_enhanced.tif/full.jpg', 'title': 'Valles Marineris Hemisphere Enhanced'}}]\n"
     ]
    }
   ],
   "source": [
    "tImage = []\n",
    "\n",
    "for t, Image in zip(title, image_url):\n",
    "    mars_data = {'Title': t,'Image_url': Image}\n",
    "    hem_images.update_one({'Title': t}, {\"$set\": {'Image_url':Image}}, upsert=True)\n",
    "#     hem_images.update({}, mars_data, upsert=True)\n",
    "    tImage.append(mars_data)\n",
    "print (tImage)"
   ]
  },
  {
   "cell_type": "code",
   "execution_count": null,
   "metadata": {},
   "outputs": [],
   "source": []
  },
  {
   "cell_type": "code",
   "execution_count": null,
   "metadata": {},
   "outputs": [],
   "source": []
  }
 ],
 "metadata": {
  "kernelspec": {
   "display_name": "Python 3",
   "language": "python",
   "name": "python3"
  },
  "language_info": {
   "codemirror_mode": {
    "name": "ipython",
    "version": 3
   },
   "file_extension": ".py",
   "mimetype": "text/x-python",
   "name": "python",
   "nbconvert_exporter": "python",
   "pygments_lexer": "ipython3",
   "version": "3.6.10"
  }
 },
 "nbformat": 4,
 "nbformat_minor": 4
}
