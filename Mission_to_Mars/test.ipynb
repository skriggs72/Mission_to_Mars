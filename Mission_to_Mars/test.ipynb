{
 "cells": [
  {
   "cell_type": "code",
   "execution_count": 3,
   "metadata": {},
   "outputs": [],
   "source": [
    "from splinter import Browser\n",
    "from bs4 import BeautifulSoup as bs\n",
    "import time\n",
    "import pandas as pd\n",
    "import re\n",
    "from webdriver_manager.chrome import ChromeDriverManager"
   ]
  },
  {
   "cell_type": "code",
   "execution_count": 4,
   "metadata": {},
   "outputs": [],
   "source": [
    "def init_browser():\n",
    "    executable_path = {'executable_path': ChromeDriverManager().install()}\n",
    "    return Browser('chrome', **executable_path, headless=False)\n",
    "\n",
    "def scrape():\n",
    "    browser = init_browser()\n",
    "\n",
    "    # NASA Mars News Titles\n",
    "    url='https://mars.nasa.gov/news/?page=0&per_page=40&order=publish_date+desc%2Ccreated_at+desc&search=&category=19%2C165%2C184%2C204&blank_scope=Latest'\n",
    "    browser.visit(url)\n",
    "    time.sleep(5)\n",
    "    \n",
    "    # Scrape page into Soup\n",
    "    html = browser.html\n",
    "    soup = bs(html, \"html.parser\")\n",
    "    article_title = soup.find_all('li', class_='slide')[0]\n",
    "    print(article_title)\n",
    "    \n",
    "#     # NASA Mars News Text\n",
    "#     url='https://mars.nasa.gov/news/?page=0&per_page=40&order=publish_date+desc%2Ccreated_at+desc&search=&category=19%2C165%2C184%2C204&blank_scope=Latest'\n",
    "#     article_p = soup.find('div', class_='rollover_description_inner').text.strip()\n",
    "    \n",
    "#     # Mars Facts\n",
    "#     mars_df = pd.read_html('http://space-facts.com/mars/',attrs={'id':'tablepress-p-mars-no-2'})\n",
    "#     mars_df = mars_df[0]\n",
    "#     mars_df.columns = [\"Category\", \"Data\"]\n",
    "#     mars_df_html = mars_df.to_html(index = False)\n",
    "\n",
    "#     # Mars Hemispheres\n",
    "#     mars_url = 'https://astrogeology.usgs.gov/search/results?q=hemisphere+enhanced&k1=target&v1=Mars'\n",
    "#     image_url=[]\n",
    "#     browser.visit(mars_url)\n",
    "#     mars_links = browser.find_by_css(\"a.product-item h3\")\n",
    "#     for i in range(len(mars_links)):\n",
    "#         mars_hemispheres = {}\n",
    "#         browser.find_by_css(\"a.product-item h3\")[i].click()\n",
    "#         mars = browser.links.find_by_text(\"Sample\").first\n",
    "#         mars_hemispheres['img_url'] = mars['href']\n",
    "#         mars_hemispheres['title'] = browser.find_by_css('h2.title').text\n",
    "#         image_url.append(mars_hemispheres)\n",
    "#         browser.back()\n",
    "#     for image in image_url:\n",
    "#         print(f' Image url: {image}')\n",
    "    \n",
    "#     # Create combine dict\n",
    "#     mars_data = {\n",
    "#         'latest_title': article_title,\n",
    "#         'latest_paragraph': article_p,\n",
    "#         'data_table': mars_df_html,\n",
    "#         'hemisphere': mars_hemispheres\n",
    "#     }\n",
    "#     return (mars_data)\n",
    "# scrape()"
   ]
  },
  {
   "cell_type": "code",
   "execution_count": null,
   "metadata": {},
   "outputs": [],
   "source": []
  }
 ],
 "metadata": {
  "kernelspec": {
   "display_name": "PythonData2",
   "language": "python",
   "name": "pythondata2"
  },
  "language_info": {
   "codemirror_mode": {
    "name": "ipython",
    "version": 3
   },
   "file_extension": ".py",
   "mimetype": "text/x-python",
   "name": "python",
   "nbconvert_exporter": "python",
   "pygments_lexer": "ipython3",
   "version": "3.8.3"
  }
 },
 "nbformat": 4,
 "nbformat_minor": 4
}
